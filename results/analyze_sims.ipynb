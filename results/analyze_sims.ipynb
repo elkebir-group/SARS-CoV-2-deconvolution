{
 "cells": [
  {
   "cell_type": "code",
   "execution_count": 2,
   "metadata": {},
   "outputs": [],
   "source": [
    "import os, sys, glob\n",
    "import math\n",
    "import numpy as np\n",
    "import pandas as pd\n",
    "%matplotlib inline\n",
    "#%config InlineBackend.figure_format = 'svg'\n",
    "import matplotlib as mpl\n",
    "import matplotlib.pyplot as plt\n",
    "import seaborn as sns\n",
    "sns.set_context(\"notebook\", font_scale=1.2)"
   ]
  },
  {
   "cell_type": "code",
   "execution_count": 5,
   "metadata": {},
   "outputs": [],
   "source": [
    "def parseB(filename):\n",
    "    df = pd.read_csv(filename, sep=\"\\t\")\n",
    "    return df.values[:,10:].astype(float)"
   ]
  },
  {
   "cell_type": "code",
   "execution_count": 6,
   "metadata": {},
   "outputs": [],
   "source": [
    "def parseU(filename):\n",
    "    df = pd.read_csv(filename, sep=\"\\t\", index_col=0)\n",
    "    return df.values.astype(float)"
   ]
  },
  {
   "cell_type": "code",
   "execution_count": 7,
   "metadata": {},
   "outputs": [],
   "source": [
    "def parseF(filename):\n",
    "    df = pd.read_csv(filename, sep=\"\\t\")\n",
    "    return df.values[:,10:].astype(float)"
   ]
  },
  {
   "cell_type": "code",
   "execution_count": 8,
   "metadata": {},
   "outputs": [],
   "source": [
    "def extractMask(F):\n",
    "    return np.ma.masked_invalid(F).mask.astype(float)"
   ]
  },
  {
   "cell_type": "markdown",
   "metadata": {},
   "source": [
    "# Frobenius norm"
   ]
  },
  {
   "cell_type": "code",
   "execution_count": 9,
   "metadata": {},
   "outputs": [],
   "source": [
    "with open(\"simulations.tsv\", \"w\") as f:\n",
    "    f.write(\"\\t\".join([\"s\", \"M\", \"k\", \"S\", \"frob\"]) + \"\\n\")\n",
    "    for filename in glob.glob(\"simulations/*_filtered.tsv\"):\n",
    "        dirname = os.path.dirname(filename)\n",
    "        basename = os.path.basename(filename)\n",
    "        l = basename.split('_')\n",
    "        s = int(l[0][1:])\n",
    "        missingStr = l[1][1:]\n",
    "        missing = float(missingStr)\n",
    "        k = int(l[2][1:])\n",
    "        S = int(l[3][1:])\n",
    "\n",
    "        F = parseF(filename)\n",
    "        M = extractMask(F)\n",
    "\n",
    "        filename_B = \"%s/s%d_M%s_k%d_S%d_B.txt\" % (dirname, s, missingStr, k, S)\n",
    "        B = parseB(filename_B)\n",
    "\n",
    "        filename_U = \"%s/s%d_M%s_k%d_S%d_U.txt\" % (dirname, s, missingStr, k, S)\n",
    "        U = parseU(filename_U)\n",
    "\n",
    "        frob = np.linalg.norm(np.nan_to_num(F - np.dot(B,U)))\n",
    "        \n",
    "        f.write(\"\\t\".join(map(str, [s, missingStr, k, S, frob])) + \"\\n\")"
   ]
  },
  {
   "cell_type": "code",
   "execution_count": 10,
   "metadata": {},
   "outputs": [],
   "source": [
    "df = pd.read_csv(\"simulations.tsv\", sep=\"\\t\")"
   ]
  },
  {
   "cell_type": "code",
   "execution_count": 11,
   "metadata": {},
   "outputs": [],
   "source": [
    "df['min_frob'] = df.groupby([\"s\", \"M\", \"k\"])[\"frob\"].transform(min)\n",
    "df[\"selected\"] = df.apply(lambda x: x[\"min_frob\"] == x[\"frob\"], axis=1)"
   ]
  },
  {
   "cell_type": "code",
   "execution_count": 12,
   "metadata": {},
   "outputs": [
    {
     "data": {
      "image/png": "[encoded data removed]",
      "text/plain": [
       "<Figure size 432x288 with 1 Axes>"
      ]
     },
     "metadata": {
      "needs_background": "light"
     },
     "output_type": "display_data"
    }
   ],
   "source": [
    "sns.stripplot(data=df[df[\"selected\"]], x=\"k\", y=\"frob\", hue=\"M\", \n",
    "              alpha=.4, dodge=True, linewidth=1, jitter=.1,)\n",
    "sns.boxplot(data=df[df[\"selected\"]], x=\"k\", y=\"frob\", hue=\"M\", \n",
    "            showfliers=False)\n",
    "handles, labels = plt.gca().get_legend_handles_labels()\n",
    "plt.gca().legend(handles[0:2], labels[0:2])\n",
    "plt.gca().set_ylabel(\"$||M \\circ(F - BU)||_\\mathrm{F}$\")\n",
    "plt.tight_layout()\n",
    "plt.savefig(\"frob.png\")"
   ]
  },
  {
   "cell_type": "code",
   "execution_count": null,
   "metadata": {},
   "outputs": [],
   "source": []
  }
 ],
 "metadata": {
  "kernelspec": {
   "display_name": "Python 3",
   "language": "python",
   "name": "python3"
  },
  "language_info": {
   "codemirror_mode": {
    "name": "ipython",
    "version": 3
   },
   "file_extension": ".py",
   "mimetype": "text/x-python",
   "name": "python",
   "nbconvert_exporter": "python",
   "pygments_lexer": "ipython3",
   "version": "3.7.6"
  }
 },
 "nbformat": 4,
 "nbformat_minor": 2
}
