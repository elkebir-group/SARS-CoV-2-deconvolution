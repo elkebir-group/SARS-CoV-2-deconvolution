{
 "cells": [
  {
   "cell_type": "code",
   "execution_count": 26,
   "metadata": {},
   "outputs": [],
   "source": [
    "import os, sys, glob\n",
    "import math\n",
    "import numpy as np\n",
    "import pandas as pd\n",
    "%matplotlib inline\n",
    "%config InlineBackend.figure_format = 'svg'\n",
    "import matplotlib as mpl\n",
    "import matplotlib.pyplot as plt\n",
    "import seaborn as sns\n",
    "sns.set_context(\"notebook\", font_scale=1.1)"
   ]
  },
  {
   "cell_type": "code",
   "execution_count": 2,
   "metadata": {},
   "outputs": [],
   "source": [
    "df_test_result = pd.read_csv(\"testing_exposure_results_summary.tsv\", sep=\"\\t\")"
   ]
  },
  {
   "cell_type": "code",
   "execution_count": 6,
   "metadata": {},
   "outputs": [],
   "source": [
    "df_test_metadata = pd.read_csv(\"testing_exposure_metadata.tsv\", sep=\"\\t\")"
   ]
  },
  {
   "cell_type": "code",
   "execution_count": 8,
   "metadata": {},
   "outputs": [
    {
     "data": {
      "text/html": [
       "<div>\n",
       "<style scoped>\n",
       "    .dataframe tbody tr th:only-of-type {\n",
       "        vertical-align: middle;\n",
       "    }\n",
       "\n",
       "    .dataframe tbody tr th {\n",
       "        vertical-align: top;\n",
       "    }\n",
       "\n",
       "    .dataframe thead th {\n",
       "        text-align: right;\n",
       "    }\n",
       "</style>\n",
       "<table border=\"1\" class=\"dataframe\">\n",
       "  <thead>\n",
       "    <tr style=\"text-align: right;\">\n",
       "      <th></th>\n",
       "      <th>sample</th>\n",
       "      <th>country</th>\n",
       "      <th>location</th>\n",
       "      <th>nstrains</th>\n",
       "      <th>nclades</th>\n",
       "      <th>nmuts</th>\n",
       "      <th>muts</th>\n",
       "      <th>strains</th>\n",
       "      <th>clades</th>\n",
       "      <th>strain_muts</th>\n",
       "      <th>error</th>\n",
       "      <th>adjusted_error</th>\n",
       "      <th>recomb</th>\n",
       "      <th>nrecomb</th>\n",
       "      <th>missing</th>\n",
       "      <th>collection_date</th>\n",
       "      <th>release_date</th>\n",
       "    </tr>\n",
       "  </thead>\n",
       "  <tbody>\n",
       "    <tr>\n",
       "      <th>0</th>\n",
       "      <td>SRR10948474</td>\n",
       "      <td>China</td>\n",
       "      <td>China</td>\n",
       "      <td>1</td>\n",
       "      <td>1</td>\n",
       "      <td>2</td>\n",
       "      <td>{28144, 8782}</td>\n",
       "      <td>{'anc-strain-0'}</td>\n",
       "      <td>{1}</td>\n",
       "      <td>{28144, 8782}</td>\n",
       "      <td>0.031484</td>\n",
       "      <td>0.014273</td>\n",
       "      <td>0</td>\n",
       "      <td>0</td>\n",
       "      <td>0</td>\n",
       "      <td>Jan-2020</td>\n",
       "      <td>2020-01-26T00:00:00Z</td>\n",
       "    </tr>\n",
       "    <tr>\n",
       "      <th>1</th>\n",
       "      <td>SRR11059943</td>\n",
       "      <td>China</td>\n",
       "      <td>China:Wuhan</td>\n",
       "      <td>1</td>\n",
       "      <td>1</td>\n",
       "      <td>1</td>\n",
       "      <td>{17615}</td>\n",
       "      <td>{'strain4'}</td>\n",
       "      <td>{0}</td>\n",
       "      <td>set()</td>\n",
       "      <td>0.083536</td>\n",
       "      <td>0.083333</td>\n",
       "      <td>0</td>\n",
       "      <td>0</td>\n",
       "      <td>18</td>\n",
       "      <td>2019-12-30</td>\n",
       "      <td>2020-02-22T00:00:00Z</td>\n",
       "    </tr>\n",
       "    <tr>\n",
       "      <th>2</th>\n",
       "      <td>SRR11140744</td>\n",
       "      <td>USA</td>\n",
       "      <td>USA:WI:Madison</td>\n",
       "      <td>1</td>\n",
       "      <td>1</td>\n",
       "      <td>0</td>\n",
       "      <td>set()</td>\n",
       "      <td>{'strain4'}</td>\n",
       "      <td>{0}</td>\n",
       "      <td>set()</td>\n",
       "      <td>0.007110</td>\n",
       "      <td>0.000000</td>\n",
       "      <td>0</td>\n",
       "      <td>0</td>\n",
       "      <td>0</td>\n",
       "      <td>2020-02-14</td>\n",
       "      <td>2020-02-21T00:00:00Z</td>\n",
       "    </tr>\n",
       "    <tr>\n",
       "      <th>3</th>\n",
       "      <td>SRR11140745</td>\n",
       "      <td>USA</td>\n",
       "      <td>USA:WI:Madison</td>\n",
       "      <td>1</td>\n",
       "      <td>1</td>\n",
       "      <td>0</td>\n",
       "      <td>set()</td>\n",
       "      <td>{'strain4'}</td>\n",
       "      <td>{0}</td>\n",
       "      <td>set()</td>\n",
       "      <td>0.022929</td>\n",
       "      <td>0.000000</td>\n",
       "      <td>0</td>\n",
       "      <td>0</td>\n",
       "      <td>0</td>\n",
       "      <td>2020-02-14</td>\n",
       "      <td>2020-02-21T00:00:00Z</td>\n",
       "    </tr>\n",
       "    <tr>\n",
       "      <th>4</th>\n",
       "      <td>SRR11140746</td>\n",
       "      <td>USA</td>\n",
       "      <td>USA:WI:Madison</td>\n",
       "      <td>1</td>\n",
       "      <td>1</td>\n",
       "      <td>0</td>\n",
       "      <td>set()</td>\n",
       "      <td>{'strain4'}</td>\n",
       "      <td>{0}</td>\n",
       "      <td>set()</td>\n",
       "      <td>0.007366</td>\n",
       "      <td>0.000000</td>\n",
       "      <td>0</td>\n",
       "      <td>0</td>\n",
       "      <td>0</td>\n",
       "      <td>2020-02-14</td>\n",
       "      <td>2020-02-21T00:00:00Z</td>\n",
       "    </tr>\n",
       "  </tbody>\n",
       "</table>\n",
       "</div>"
      ],
      "text/plain": [
       "        sample country        location  nstrains  nclades  nmuts  \\\n",
       "0  SRR10948474   China           China         1        1      2   \n",
       "1  SRR11059943   China     China:Wuhan         1        1      1   \n",
       "2  SRR11140744     USA  USA:WI:Madison         1        1      0   \n",
       "3  SRR11140745     USA  USA:WI:Madison         1        1      0   \n",
       "4  SRR11140746     USA  USA:WI:Madison         1        1      0   \n",
       "\n",
       "            muts           strains clades    strain_muts     error  \\\n",
       "0  {28144, 8782}  {'anc-strain-0'}    {1}  {28144, 8782}  0.031484   \n",
       "1        {17615}       {'strain4'}    {0}          set()  0.083536   \n",
       "2          set()       {'strain4'}    {0}          set()  0.007110   \n",
       "3          set()       {'strain4'}    {0}          set()  0.022929   \n",
       "4          set()       {'strain4'}    {0}          set()  0.007366   \n",
       "\n",
       "   adjusted_error  recomb  nrecomb  missing collection_date  \\\n",
       "0        0.014273       0        0        0        Jan-2020   \n",
       "1        0.083333       0        0       18      2019-12-30   \n",
       "2        0.000000       0        0        0      2020-02-14   \n",
       "3        0.000000       0        0        0      2020-02-14   \n",
       "4        0.000000       0        0        0      2020-02-14   \n",
       "\n",
       "           release_date  \n",
       "0  2020-01-26T00:00:00Z  \n",
       "1  2020-02-22T00:00:00Z  \n",
       "2  2020-02-21T00:00:00Z  \n",
       "3  2020-02-21T00:00:00Z  \n",
       "4  2020-02-21T00:00:00Z  "
      ]
     },
     "execution_count": 8,
     "metadata": {},
     "output_type": "execute_result"
    }
   ],
   "source": [
    "df_test_result.head()"
   ]
  },
  {
   "cell_type": "code",
   "execution_count": 11,
   "metadata": {},
   "outputs": [],
   "source": [
    "mutations = [(241, 'T'), (379, 'A'), (490, 'A'), (1059, 'T'), (1440, 'A'), (1515, 'G'), (2891, 'A'), (3037, 'T'), (3784, 'T'), (7011, 'T'), (8782, 'T'), (9223, 'T'), (11083, 'T'), (11671, 'T'), (14408, 'T'), (14805, 'T'), (17247, 'C'), (17615, 'G'), (17747, 'T'), (17858, 'G'), (18060, 'T'), (18736, 'C'), (19684, 'T'), (20268, 'G'), (22335, 'T'), (23010, 'C'), (23403, 'G'), (23525, 'T'), (23606, 'T'), (24034, 'T'), (25563, 'T'), (25979, 'T'), (26144, 'T'), (26530, 'G'), (26729, 'C'), (27676, 'T'), (28077, 'C'), (28144, 'C'), (28688, 'C'), (28854, 'T'), (28882, 'A')]"
   ]
  },
  {
   "cell_type": "code",
   "execution_count": 9,
   "metadata": {},
   "outputs": [],
   "source": [
    "def plotInput(sample):\n",
    "    df = pd.read_csv(\"\")\n",
    "    return None"
   ]
  },
  {
   "cell_type": "code",
   "execution_count": 10,
   "metadata": {},
   "outputs": [],
   "source": [
    "plotInput(\"SRR10948474\")"
   ]
  },
  {
   "cell_type": "code",
   "execution_count": 33,
   "metadata": {},
   "outputs": [],
   "source": [
    "df_test = pd.read_csv(\"../data_testing/sample_summary.tsv\", sep=\"\\t\")"
   ]
  },
  {
   "cell_type": "code",
   "execution_count": 34,
   "metadata": {},
   "outputs": [],
   "source": [
    "df_training = pd.read_csv(\"../new_data_illumina_April8_reduced/sample_summary.tsv\", sep=\"\\t\")"
   ]
  },
  {
   "cell_type": "code",
   "execution_count": 37,
   "metadata": {},
   "outputs": [],
   "source": [
    "df = pd.concat([df_test, df_training])"
   ]
  },
  {
   "cell_type": "code",
   "execution_count": 44,
   "metadata": {},
   "outputs": [],
   "source": [
    "def plotBarPlot(df, filename):\n",
    "    sns.barplot(palette=[sns.color_palette()[1]]+[sns.color_palette()[0]]*11, x=\"mutations\", y=\"sample\", \n",
    "                data=df[df[\"type\"] == \"subclonal\"].groupby(\"mutations\").count().reset_index())\n",
    "    plt.gca().set_xlabel(\"number of subclonal mutations\")\n",
    "    plt.gca().set_ylabel(\"number of samples\")\n",
    "    plt.gca().set_xlim((-0.5,9.5))\n",
    "    plt.savefig(filename)\n",
    "    plt.close()"
   ]
  },
  {
   "cell_type": "code",
   "execution_count": 47,
   "metadata": {},
   "outputs": [],
   "source": [
    "def plotPieChart(df, filename):\n",
    "    hom_count = len(df[(df[\"type\"] == \"subclonal\") & (df[\"mutations\"] == 0)])\n",
    "    het_count = len(df[(df[\"type\"] == \"subclonal\") & (df[\"mutations\"] > 0)])\n",
    "    df_pie = pd.DataFrame([(het_count, \"heterogeneous [%d]\" % het_count), (hom_count, \"homogenous [%d]\" % hom_count)], columns =['count', 'sample']).set_index(\"sample\")\n",
    "    ax = df_pie.plot(kind='pie', y=\"count\", figsize=(4,4), labels=[\"\", \"\"], autopct='%1.0f%%')\n",
    "    ax.legend(loc=3, labels=df_pie.index)\n",
    "    ax.set_ylabel(\"\")\n",
    "    plt.savefig(filename)\n",
    "    plt.close()"
   ]
  },
  {
   "cell_type": "code",
   "execution_count": 48,
   "metadata": {},
   "outputs": [],
   "source": [
    "plotBarPlot(df, \"all_samples_subclonal_bar.pdf\")\n",
    "plotPieChart(df, \"all_samples_subclonal_pie.pdf\")\n",
    "plotBarPlot(df_test, \"test_samples_subclonal_bar.pdf\")\n",
    "plotPieChart(df_test, \"test_samples_subclonal_pie.pdf\")\n",
    "plotBarPlot(df_training, \"training_samples_subclonal_bar.pdf\")\n",
    "plotPieChart(df_training, \"training_samples_subclonal_pie.pdf\")"
   ]
  },
  {
   "cell_type": "code",
   "execution_count": null,
   "metadata": {},
   "outputs": [],
   "source": []
  }
 ],
 "metadata": {
  "kernelspec": {
   "display_name": "Python 3",
   "language": "python",
   "name": "python3"
  },
  "language_info": {
   "codemirror_mode": {
    "name": "ipython",
    "version": 3
   },
   "file_extension": ".py",
   "mimetype": "text/x-python",
   "name": "python",
   "nbconvert_exporter": "python",
   "pygments_lexer": "ipython3",
   "version": "3.7.3"
  }
 },
 "nbformat": 4,
 "nbformat_minor": 2
}
